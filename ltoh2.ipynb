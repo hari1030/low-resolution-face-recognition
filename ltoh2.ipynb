{
 "cells": [
  {
   "cell_type": "code",
   "execution_count": null,
   "metadata": {},
   "outputs": [
    {
     "name": "stdout",
     "output_type": "stream",
     "text": [
      "WARNING:tensorflow:From C:\\Users\\hi\\Anaconda3\\lib\\site-packages\\tensorflow\\python\\ops\\resource_variable_ops.py:435: colocate_with (from tensorflow.python.framework.ops) is deprecated and will be removed in a future version.\n",
      "Instructions for updating:\n",
      "Colocations handled automatically by placer.\n"
     ]
    }
   ],
   "source": [
    "import tensorflow.keras as K\n",
    "import numpy as np\n",
    "import cv2\n",
    "import matplotlib.pyplot as plt, glob, os\n",
    "from os import listdir\n",
    "input_size=256\n",
    "def read_image(img_path,scale=2):\n",
    "    global input_size\n",
    "    img = cv2.imread(img_path, cv2.IMREAD_COLOR)\n",
    "    img = cv2.cvtColor(img, cv2.COLOR_BGR2RGB)\n",
    "    img_lr = cv2.resize(img, (input_size,input_size),interpolation=cv2.INTER_CUBIC)\n",
    "    img_hr = cv2.resize(img, (input_size*scale,input_size*scale),interpolation=cv2.INTER_CUBIC)\n",
    "    return img_lr,img_hr\n",
    "mo=K.models.load_model('sr_2x.h5' ,custom_objects=None,compile=False)\n",
    "dire=\"C:/Users/hi/scikit_learn_data/lfw_home/lfw_fun/\"\n",
    "lis=listdir(dire)\n",
    "for i in lis:\n",
    "    pat=dire+i+\"/*.*\"\n",
    "    val_list = glob.glob(pat, recursive=True)\n",
    "    for j in val_list:\n",
    "        tlr,hlr=read_image(j)\n",
    "        tlr=np.expand_dims(tlr,axis=0)\n",
    "        pred=mo.predict(tlr/255.)\n",
    "        cv2.imwrite(j, cv2.cvtColor(pred[0]*255., cv2.COLOR_RGB2BGR))\n",
    "    pat=''"
   ]
  },
  {
   "cell_type": "code",
   "execution_count": null,
   "metadata": {},
   "outputs": [],
   "source": []
  }
 ],
 "metadata": {
  "kernelspec": {
   "display_name": "Python 3",
   "language": "python",
   "name": "python3"
  },
  "language_info": {
   "codemirror_mode": {
    "name": "ipython",
    "version": 3
   },
   "file_extension": ".py",
   "mimetype": "text/x-python",
   "name": "python",
   "nbconvert_exporter": "python",
   "pygments_lexer": "ipython3",
   "version": "3.7.1"
  }
 },
 "nbformat": 4,
 "nbformat_minor": 2
}
